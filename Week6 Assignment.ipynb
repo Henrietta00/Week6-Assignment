{
 "cells": [
  {
   "cell_type": "markdown",
   "id": "6003e19a",
   "metadata": {},
   "source": [
    "# Exercise 2"
   ]
  },
  {
   "cell_type": "markdown",
   "id": "0afb6c4a",
   "metadata": {},
   "source": [
    "### <font color = 'blue'>Week6 Assignment"
   ]
  },
  {
   "cell_type": "markdown",
   "id": "a9e56967",
   "metadata": {},
   "source": [
    "# Exercise 3"
   ]
  },
  {
   "cell_type": "markdown",
   "id": "e33068af",
   "metadata": {},
   "source": [
    "### <font color = 'blue'> Introduction\n",
    "<font color = 'blue'>This notebook is to answer the questions in the assignment of week6 in stage 2 of IBM Data Science Specialization individually.\n",
    "    \n",
    "<font color = 'blue'>To identify the question content and our answers, we use blue font to represent my answer and the defaut color which is black as the font color of question descriptions, this only applies for markdown answers."
   ]
  },
  {
   "cell_type": "markdown",
   "id": "45245915",
   "metadata": {},
   "source": [
    "# Exercise 4"
   ]
  },
  {
   "cell_type": "markdown",
   "id": "6e96dac0",
   "metadata": {},
   "source": [
    "<font color = 'blue'> The data science languages are as follows: python, r language, sql, Java, javascript"
   ]
  },
  {
   "cell_type": "markdown",
   "id": "d76765cd",
   "metadata": {},
   "source": [
    "# Exercise 5"
   ]
  },
  {
   "cell_type": "markdown",
   "id": "9ffc10cc",
   "metadata": {},
   "source": [
    "<font color = 'blue'> The data Science libraries are as follows: pandas, scipy, nltk, numpy and scikit-learn"
   ]
  },
  {
   "cell_type": "markdown",
   "id": "a9bed494",
   "metadata": {},
   "source": [
    "# Exercise 6"
   ]
  },
  {
   "cell_type": "markdown",
   "id": "9f7452f7",
   "metadata": {},
   "source": [
    "\n",
    "|Data Management Tool|NoSQL Tool|File_based\n",
    "| --- | --- | --- |\n",
    "|MySQL|MangoSQL|Hadoop|\n",
    "|PostgreSQL|Apache CouchDB|Ceph|\n"
   ]
  },
  {
   "cell_type": "markdown",
   "id": "1fa891f3",
   "metadata": {},
   "source": [
    "# Exercise 7"
   ]
  },
  {
   "cell_type": "markdown",
   "id": "a79926fd",
   "metadata": {},
   "source": [
    "## <font color = 'blue'> 1. Addition\n",
    "<font color = 'blue'>\n",
    "\\begin{gather*}\n",
    "a1 = b1 + c1\\\\\n",
    "\\end{gather*}\n",
    "    \n",
    "## <font color = 'blue'> 2. Multiplication\n",
    "<font color = 'blue'>\n",
    "\\begin{gather*}\n",
    "a2 = b2 * c3\n",
    "\\end{gather*}\n"
   ]
  },
  {
   "cell_type": "markdown",
   "id": "6e9270c1",
   "metadata": {},
   "source": [
    "# Exercise 8"
   ]
  },
  {
   "cell_type": "code",
   "execution_count": 2,
   "id": "f44bad0b",
   "metadata": {},
   "outputs": [
    {
     "name": "stdout",
     "output_type": "stream",
     "text": [
      "6 5\n"
     ]
    }
   ],
   "source": [
    "\n",
    "num1 = 2\n",
    "num2 = 3\n",
    "res_mul = 0 # result\n",
    "res_add = 03\n",
    "# multiply\n",
    "res_mul = num1*num2\n",
    "res_add = num1 + num2\n",
    "\n",
    "print(res_mul,res_add)"
   ]
  },
  {
   "cell_type": "markdown",
   "id": "9fdcfaed",
   "metadata": {},
   "source": [
    "# Exercise 9"
   ]
  },
  {
   "cell_type": "code",
   "execution_count": 3,
   "id": "c088f53b",
   "metadata": {},
   "outputs": [
    {
     "name": "stdout",
     "output_type": "stream",
     "text": [
      "1.0\n"
     ]
    }
   ],
   "source": [
    "min_num = 60\n",
    "hour_num = min_num/60\n",
    "\n",
    "print(hour_num)"
   ]
  },
  {
   "cell_type": "markdown",
   "id": "775c1c81",
   "metadata": {},
   "source": [
    "# Exercise 10"
   ]
  },
  {
   "cell_type": "markdown",
   "id": "b97d4f5d",
   "metadata": {},
   "source": [
    "# <font color = 'blue'>Objectives\n",
    "<ol>\n",
    "  <p> </p>\n",
    "  <font color = 'blue'><li>Create a Jupyter Notebook with markdown and code cells.</li>\n",
    "  <p> </p>\n",
    "  <li>List examples of languages, libraries and tools used in Data Science</li>\n",
    "  <p> </p>\n",
    "  <li>Share your Jupyter Notebook publicly on GitHub.</li>\n",
    "  <p> </p>\n",
    "  <li>Evaluate notebooks submitted by your peers using the provided rubric.</li>\n",
    "  <p> </p>\n",
    "  <li>Demonstrate proficiency in Data Science toolkit knowledge.</li>\n",
    "</ol>"
   ]
  },
  {
   "cell_type": "markdown",
   "id": "8ee54b4d",
   "metadata": {},
   "source": [
    "# Exercise 11"
   ]
  },
  {
   "cell_type": "markdown",
   "id": "61ace261",
   "metadata": {},
   "source": [
    "## <font color = 'blue'> Author's Name: Xingchen YU"
   ]
  },
  {
   "cell_type": "markdown",
   "id": "ecf71215",
   "metadata": {},
   "source": [
    "# Exercise 12"
   ]
  },
  {
   "cell_type": "code",
   "execution_count": null,
   "id": "1b59ae03",
   "metadata": {},
   "outputs": [],
   "source": []
  }
 ],
 "metadata": {
  "kernelspec": {
   "display_name": "Python 3 (ipykernel)",
   "language": "python",
   "name": "python3"
  },
  "language_info": {
   "codemirror_mode": {
    "name": "ipython",
    "version": 3
   },
   "file_extension": ".py",
   "mimetype": "text/x-python",
   "name": "python",
   "nbconvert_exporter": "python",
   "pygments_lexer": "ipython3",
   "version": "3.10.9"
  }
 },
 "nbformat": 4,
 "nbformat_minor": 5
}
